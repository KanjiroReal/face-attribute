{
 "metadata": {
  "kernelspec": {
   "display_name": "Python 3",
   "language": "python",
   "name": "python3"
  },
  "language_info": {
   "name": "python",
   "version": "3.10.13",
   "mimetype": "text/x-python",
   "codemirror_mode": {
    "name": "ipython",
    "version": 3
   },
   "pygments_lexer": "ipython3",
   "nbconvert_exporter": "python",
   "file_extension": ".py"
  },
  "kaggle": {
   "accelerator": "gpu",
   "dataSources": [
    {
     "sourceId": 7996894,
     "sourceType": "datasetVersion",
     "datasetId": 4708560
    }
   ],
   "dockerImageVersionId": 30674,
   "isInternetEnabled": true,
   "language": "python",
   "sourceType": "notebook",
   "isGpuEnabled": true
  }
 },
 "nbformat_minor": 5,
 "nbformat": 4,
 "cells": [
  {
   "cell_type": "code",
   "source": [
    "import json\n",
    "import os\n",
    "from pathlib import Path\n",
    "from typing import *\n",
    "\n",
    "import torch as t\n",
    "from torch import nn\n",
    "from torch.utils.data import DataLoader, random_split, WeightedRandomSampler\n",
    "from torchinfo import summary\n",
    "from torchmetrics import Accuracy, F1Score, Metric\n",
    "from torchvision.datasets import ImageFolder\n",
    "from torchvision.models import vgg16\n",
    "from torchvision.transforms import transforms, TrivialAugmentWide\n",
    "from tqdm.auto import tqdm\n",
    "\n",
    "DEVICE = \"cuda\" if t.cuda.is_available() else \"cpu\"\n"
   ],
   "metadata": {
    "execution": {
     "iopub.status.busy": "2024-04-02T06:00:04.115126Z",
     "iopub.execute_input": "2024-04-02T06:00:04.115470Z",
     "iopub.status.idle": "2024-04-02T06:00:12.569569Z",
     "shell.execute_reply.started": "2024-04-02T06:00:04.115444Z",
     "shell.execute_reply": "2024-04-02T06:00:12.568489Z"
    },
    "trusted": true
   },
   "execution_count": 1,
   "outputs": [],
   "id": "3564fa78fd263bc3"
  },
  {
   "cell_type": "code",
   "source": [
    "def get_subset_images(dataset, subset):\n",
    "    return [dataset.imgs[i] for i in subset.indices]\n",
    "\n",
    "\n",
    "def is_on_kaggle():\n",
    "    \"\"\"Check environment, return True when run on Kaggle. else False\"\"\"\n",
    "    if 'KAGGLE_KERNEL_RUN_TYPE' in os.environ:\n",
    "        return True\n",
    "    else:\n",
    "        return False"
   ],
   "metadata": {
    "collapsed": false,
    "execution": {
     "iopub.status.busy": "2024-04-02T06:00:12.571204Z",
     "iopub.execute_input": "2024-04-02T06:00:12.571806Z",
     "iopub.status.idle": "2024-04-02T06:00:12.577119Z",
     "shell.execute_reply.started": "2024-04-02T06:00:12.571779Z",
     "shell.execute_reply": "2024-04-02T06:00:12.576278Z"
    },
    "trusted": true
   },
   "execution_count": 2,
   "outputs": [],
   "id": "b38655e0c8769442"
  },
  {
   "cell_type": "code",
   "source": [
    "DEVICE = \"cuda\" if t.cuda.is_available() else \"cpu\"\n",
    "print(f\"Using device: {DEVICE}\\n\")\n",
    "status = \"running on kaggle\\n\" if is_on_kaggle() else \"running on local environment\\n\"\n",
    "print(status)\n",
    "BATCH_SIZE = 256 if is_on_kaggle() else 32\n",
    "IMAGE_SIZE = (224, 224)\n",
    "EPOCHS = 50 if is_on_kaggle() else 3\n",
    "NUM_WORKERS = 0\n",
    "TRAIN_SIZE = 0.85\n",
    "LR = 0.003\n",
    "DATASET_NAME = \"013_balanced\"  # this is the name of the dataset which is the parent of train and test directory\n",
    "VERSION = DATASET_NAME[:3]\n",
    "print(f\"Current version: {VERSION}\\n\")\n",
    "\n",
    "STORAGE = Path(\"STORAGE\")\n",
    "DST_DIR = STORAGE / VERSION\n",
    "DST_DIR.mkdir(exist_ok=True, parents=True)\n",
    "\n",
    "data_root = Path('/kaggle/input/013-balanced' if is_on_kaggle() else f'STORAGE/{VERSION}/Data')\n",
    "data_path = data_root / DATASET_NAME\n",
    "dataset_dir = data_path / \"train\"\n",
    "test_dir = data_path / \"test\""
   ],
   "metadata": {
    "collapsed": false,
    "execution": {
     "iopub.status.busy": "2024-04-02T06:00:12.578359Z",
     "iopub.execute_input": "2024-04-02T06:00:12.578906Z",
     "iopub.status.idle": "2024-04-02T06:00:12.597788Z",
     "shell.execute_reply.started": "2024-04-02T06:00:12.578874Z",
     "shell.execute_reply": "2024-04-02T06:00:12.596855Z"
    },
    "trusted": true
   },
   "execution_count": 3,
   "outputs": [
    {
     "name": "stdout",
     "text": "Using device: cuda\n\nrunning on kaggle\n\nCurrent version: 013\n\n",
     "output_type": "stream"
    }
   ],
   "id": "264af82b984b022"
  },
  {
   "cell_type": "markdown",
   "source": [
    "<center><h1 style=color:yellow;>UTILS</h1></center> "
   ],
   "metadata": {},
   "id": "d2adbdec31b50dcf"
  },
  {
   "cell_type": "code",
   "source": [
    "class LossPrettifier(object):\n",
    "    STYLE = {'green': '\\033[32m', 'red': '\\033[91m', 'bold': '\\033[1m', }\n",
    "    STYLE_END = '\\033[0m'\n",
    "\n",
    "    def __init__(self, show_percentage=False):\n",
    "\n",
    "        self.show_percentage = show_percentage\n",
    "        self.color_up = 'red'\n",
    "        self.color_down = 'green'\n",
    "        self.loss_terms = {}\n",
    "\n",
    "    def __call__(self, epoch=None, **kwargs):\n",
    "\n",
    "        if epoch is not None:\n",
    "            print_string = f'Epoch {epoch: 5d} '\n",
    "        else:\n",
    "            print_string = ''\n",
    "\n",
    "        for key, value in kwargs.items():\n",
    "\n",
    "            pre_value = self.loss_terms.get(key, value)\n",
    "\n",
    "            if value > pre_value:\n",
    "                indicator = '▲'\n",
    "                show_color = self.STYLE[self.color_up]\n",
    "            elif value == pre_value:\n",
    "                indicator = ''\n",
    "                show_color = ''\n",
    "            else:\n",
    "                indicator = '▼'\n",
    "                show_color = self.STYLE[self.color_down]\n",
    "\n",
    "            if self.show_percentage:\n",
    "                show_value = 0 if pre_value == 0 else (value - pre_value) / float(pre_value)\n",
    "                key_string = f'| {key}: {show_color}{value:3.2f}({show_value:+3.2%}) {indicator}'\n",
    "            else:\n",
    "                key_string = f'| {key}: {show_color}{value:.4f} {indicator}'\n",
    "\n",
    "            # Trim some long outputs\n",
    "            key_string_part = key_string[:32]\n",
    "            print_string += key_string_part + f'{self.STYLE_END}\\t'\n",
    "\n",
    "            self.loss_terms[key] = value\n",
    "\n",
    "        print(print_string)\n"
   ],
   "metadata": {
    "collapsed": false,
    "execution": {
     "iopub.status.busy": "2024-04-02T06:00:12.600013Z",
     "iopub.execute_input": "2024-04-02T06:00:12.600391Z",
     "iopub.status.idle": "2024-04-02T06:00:12.610286Z",
     "shell.execute_reply.started": "2024-04-02T06:00:12.600368Z",
     "shell.execute_reply": "2024-04-02T06:00:12.609454Z"
    },
    "trusted": true
   },
   "execution_count": 4,
   "outputs": [],
   "id": "9a26e34eeb0a8373"
  },
  {
   "cell_type": "code",
   "source": [
    "def make_weight_for_balance_classes(images, num_classes: int):\n",
    "    n_images = len(images)\n",
    "    count_per_class = [0] * num_classes\n",
    "    for _, image_class in images:\n",
    "        count_per_class[image_class] += 1\n",
    "    weight_per_class = [0.] * num_classes\n",
    "    for i in range(num_classes):\n",
    "        weight_per_class[i] = float(n_images) / float(count_per_class[i])\n",
    "    weights = [0] * n_images\n",
    "    for idx, (image, image_class) in enumerate(images):\n",
    "        weights[idx] = weight_per_class[image_class]\n",
    "    return weights, weight_per_class\n",
    "\n"
   ],
   "metadata": {
    "collapsed": false,
    "execution": {
     "iopub.status.busy": "2024-04-02T06:00:12.611677Z",
     "iopub.execute_input": "2024-04-02T06:00:12.612007Z",
     "iopub.status.idle": "2024-04-02T06:00:12.622539Z",
     "shell.execute_reply.started": "2024-04-02T06:00:12.611978Z",
     "shell.execute_reply": "2024-04-02T06:00:12.621688Z"
    },
    "trusted": true
   },
   "execution_count": 5,
   "outputs": [],
   "id": "772ecc0ae289c91"
  },
  {
   "cell_type": "markdown",
   "source": [
    "<center><h1 style=color:orange;>DATA</h1></center> "
   ],
   "metadata": {},
   "id": "f2d8289001a2c10c"
  },
  {
   "cell_type": "code",
   "source": [
    "train_transform = transforms.Compose(\n",
    "    [transforms.Resize(size=IMAGE_SIZE), TrivialAugmentWide(num_magnitude_bins=10),\n",
    "     transforms.RandomHorizontalFlip(p=0.5), transforms.ToTensor()])\n",
    "\n",
    "dataset = ImageFolder(dataset_dir, transform=train_transform, target_transform=None)\n",
    "class_names = dataset.classes\n",
    "test_dataset = ImageFolder(test_dir, transform=train_transform, target_transform=None)\n",
    "train_size = int(len(dataset) * TRAIN_SIZE)\n",
    "validation_size = len(dataset) - train_size\n",
    "train_dataset, validation_dataset = random_split(dataset, [train_size, validation_size])\n",
    "print(f\"Train size: {len(train_dataset)}\\nValidation size: {len(validation_dataset)}\")\n",
    "print(f\"Test size: {len(test_dataset)}\\n\")"
   ],
   "metadata": {
    "collapsed": false,
    "execution": {
     "iopub.status.busy": "2024-04-02T06:00:12.623478Z",
     "iopub.execute_input": "2024-04-02T06:00:12.623710Z",
     "iopub.status.idle": "2024-04-02T06:01:11.818700Z",
     "shell.execute_reply.started": "2024-04-02T06:00:12.623690Z",
     "shell.execute_reply": "2024-04-02T06:01:11.817761Z"
    },
    "trusted": true
   },
   "execution_count": 6,
   "outputs": [
    {
     "name": "stdout",
     "text": "Train size: 37092\nValidation size: 6546\nTest size: 681\n\n",
     "output_type": "stream"
    }
   ],
   "id": "5cec5d23780f8623"
  },
  {
   "cell_type": "code",
   "source": [
    "train_imgs = get_subset_images(dataset, train_dataset)\n",
    "validation_imgs = get_subset_images(dataset, validation_dataset)\n",
    "\n",
    "train_weight, _ = make_weight_for_balance_classes(train_imgs, num_classes=len(class_names))\n",
    "\n",
    "val_weight, _ = make_weight_for_balance_classes(validation_imgs, num_classes=len(class_names))\n",
    "\n",
    "train_weight = t.DoubleTensor(train_weight)\n",
    "val_weight = t.DoubleTensor(val_weight)\n",
    "\n",
    "train_sampler = WeightedRandomSampler(weights=train_weight, num_samples=len(train_weight))\n",
    "val_sampler = WeightedRandomSampler(weights=val_weight, num_samples=len(val_weight))"
   ],
   "metadata": {
    "collapsed": false,
    "execution": {
     "iopub.status.busy": "2024-04-02T06:01:11.819835Z",
     "iopub.execute_input": "2024-04-02T06:01:11.820121Z",
     "iopub.status.idle": "2024-04-02T06:01:11.858858Z",
     "shell.execute_reply.started": "2024-04-02T06:01:11.820096Z",
     "shell.execute_reply": "2024-04-02T06:01:11.857977Z"
    },
    "trusted": true
   },
   "execution_count": 7,
   "outputs": [],
   "id": "5a632e545bab2cda"
  },
  {
   "cell_type": "code",
   "source": [
    "\n",
    "train_dataloader = DataLoader(dataset=train_dataset,\n",
    "                              batch_size=BATCH_SIZE,\n",
    "                              num_workers=NUM_WORKERS,\n",
    "                              sampler=train_sampler,\n",
    "                              drop_last=True)\n",
    "\n",
    "val_dataloader = DataLoader(dataset=validation_dataset,\n",
    "                            batch_size=BATCH_SIZE,\n",
    "                            num_workers=NUM_WORKERS,\n",
    "                            sampler=val_sampler,\n",
    "                            drop_last=True)\n",
    "\n",
    "test_dataloader = DataLoader(dataset=test_dataset,\n",
    "                             batch_size=BATCH_SIZE,\n",
    "                             num_workers=NUM_WORKERS,\n",
    "                             shuffle=False,\n",
    "                             drop_last=True)\n",
    "\n",
    "data_loader_dict = {\"train\": train_dataloader,\n",
    "                    \"val\": val_dataloader,\n",
    "                    \"test\": test_dataloader}\n"
   ],
   "metadata": {
    "collapsed": false,
    "execution": {
     "iopub.status.busy": "2024-04-02T06:01:11.859843Z",
     "iopub.execute_input": "2024-04-02T06:01:11.860158Z",
     "iopub.status.idle": "2024-04-02T06:01:11.866496Z",
     "shell.execute_reply.started": "2024-04-02T06:01:11.860134Z",
     "shell.execute_reply": "2024-04-02T06:01:11.865500Z"
    },
    "trusted": true
   },
   "execution_count": 8,
   "outputs": [],
   "id": "a200f0a503b5582c"
  },
  {
   "cell_type": "markdown",
   "source": [
    "<center><h1 style=color:lime;>MODEL</h1></center> "
   ],
   "metadata": {},
   "id": "dea264fcc2b7d6f"
  },
  {
   "cell_type": "code",
   "source": [
    "class AgeRangePredictor(nn.Module):\n",
    "    def __init__(self,\n",
    "                 hidden_units: int,\n",
    "                 output_shape: int):\n",
    "        super().__init__()\n",
    "        self.backbone = vgg16(weights=\"DEFAULT\")\n",
    "        self.backbone = nn.Sequential(*list(self.backbone.children())[:-1])\n",
    "        backbone_output_shape = self.backbone[0][-3].out_channels\n",
    "        for param in self.backbone.parameters():\n",
    "            param.requires_grad = False\n",
    "\n",
    "        self.classifier = nn.Sequential(\n",
    "            nn.Flatten(),\n",
    "            nn.Linear(in_features=backbone_output_shape * 7 * 7, out_features=hidden_units),\n",
    "            nn.ReLU(),\n",
    "            nn.Dropout(p=0.5),\n",
    "            nn.Linear(in_features=hidden_units, out_features=int(hidden_units / 2)),\n",
    "            nn.ReLU(),\n",
    "            nn.Dropout(p=0.5),\n",
    "            nn.Linear(in_features=int(hidden_units / 2), out_features=output_shape)\n",
    "        )\n",
    "\n",
    "    def forward(self, x):\n",
    "        return self.classifier(self.backbone(x))\n",
    "\n",
    "\n",
    "model_0 = AgeRangePredictor(hidden_units=4096,\n",
    "                            output_shape=len(class_names)).to(DEVICE)\n",
    "model_0_loss_fn = nn.CrossEntropyLoss().to(DEVICE)\n",
    "model_0_optimizer = t.optim.Adam(params=model_0.parameters(), lr=LR)\n",
    "\n",
    "acc_fn = Accuracy(task=\"multiclass\",\n",
    "                  num_classes=len(class_names)).to(DEVICE)\n",
    "f1_fn = F1Score(task=\"multiclass\",\n",
    "                num_classes=len(class_names)).to(DEVICE)\n",
    "\n",
    "summary(model_0, input_size=(BATCH_SIZE, 3, 224, 224))"
   ],
   "metadata": {
    "collapsed": false,
    "execution": {
     "iopub.status.busy": "2024-04-02T06:01:11.867795Z",
     "iopub.execute_input": "2024-04-02T06:01:11.868439Z",
     "iopub.status.idle": "2024-04-02T06:01:25.276342Z",
     "shell.execute_reply.started": "2024-04-02T06:01:11.868400Z",
     "shell.execute_reply": "2024-04-02T06:01:25.275337Z"
    },
    "trusted": true
   },
   "execution_count": 9,
   "outputs": [
    {
     "name": "stderr",
     "text": "Downloading: \"https://download.pytorch.org/models/vgg16-397923af.pth\" to /root/.cache/torch/hub/checkpoints/vgg16-397923af.pth\n100%|██████████| 528M/528M [00:08<00:00, 64.5MB/s] \n",
     "output_type": "stream"
    },
    {
     "execution_count": 9,
     "output_type": "execute_result",
     "data": {
      "text/plain": "==========================================================================================\nLayer (type:depth-idx)                   Output Shape              Param #\n==========================================================================================\nAgeRangePredictor                        [256, 5]                  --\n├─Sequential: 1-1                        [256, 512, 7, 7]          --\n│    └─Sequential: 2-1                   [256, 512, 7, 7]          --\n│    │    └─Conv2d: 3-1                  [256, 64, 224, 224]       (1,792)\n│    │    └─ReLU: 3-2                    [256, 64, 224, 224]       --\n│    │    └─Conv2d: 3-3                  [256, 64, 224, 224]       (36,928)\n│    │    └─ReLU: 3-4                    [256, 64, 224, 224]       --\n│    │    └─MaxPool2d: 3-5               [256, 64, 112, 112]       --\n│    │    └─Conv2d: 3-6                  [256, 128, 112, 112]      (73,856)\n│    │    └─ReLU: 3-7                    [256, 128, 112, 112]      --\n│    │    └─Conv2d: 3-8                  [256, 128, 112, 112]      (147,584)\n│    │    └─ReLU: 3-9                    [256, 128, 112, 112]      --\n│    │    └─MaxPool2d: 3-10              [256, 128, 56, 56]        --\n│    │    └─Conv2d: 3-11                 [256, 256, 56, 56]        (295,168)\n│    │    └─ReLU: 3-12                   [256, 256, 56, 56]        --\n│    │    └─Conv2d: 3-13                 [256, 256, 56, 56]        (590,080)\n│    │    └─ReLU: 3-14                   [256, 256, 56, 56]        --\n│    │    └─Conv2d: 3-15                 [256, 256, 56, 56]        (590,080)\n│    │    └─ReLU: 3-16                   [256, 256, 56, 56]        --\n│    │    └─MaxPool2d: 3-17              [256, 256, 28, 28]        --\n│    │    └─Conv2d: 3-18                 [256, 512, 28, 28]        (1,180,160)\n│    │    └─ReLU: 3-19                   [256, 512, 28, 28]        --\n│    │    └─Conv2d: 3-20                 [256, 512, 28, 28]        (2,359,808)\n│    │    └─ReLU: 3-21                   [256, 512, 28, 28]        --\n│    │    └─Conv2d: 3-22                 [256, 512, 28, 28]        (2,359,808)\n│    │    └─ReLU: 3-23                   [256, 512, 28, 28]        --\n│    │    └─MaxPool2d: 3-24              [256, 512, 14, 14]        --\n│    │    └─Conv2d: 3-25                 [256, 512, 14, 14]        (2,359,808)\n│    │    └─ReLU: 3-26                   [256, 512, 14, 14]        --\n│    │    └─Conv2d: 3-27                 [256, 512, 14, 14]        (2,359,808)\n│    │    └─ReLU: 3-28                   [256, 512, 14, 14]        --\n│    │    └─Conv2d: 3-29                 [256, 512, 14, 14]        (2,359,808)\n│    │    └─ReLU: 3-30                   [256, 512, 14, 14]        --\n│    │    └─MaxPool2d: 3-31              [256, 512, 7, 7]          --\n│    └─AdaptiveAvgPool2d: 2-2            [256, 512, 7, 7]          --\n├─Sequential: 1-2                        [256, 5]                  --\n│    └─Flatten: 2-3                      [256, 25088]              --\n│    └─Linear: 2-4                       [256, 4096]               102,764,544\n│    └─ReLU: 2-5                         [256, 4096]               --\n│    └─Dropout: 2-6                      [256, 4096]               --\n│    └─Linear: 2-7                       [256, 2048]               8,390,656\n│    └─ReLU: 2-8                         [256, 2048]               --\n│    └─Dropout: 2-9                      [256, 2048]               --\n│    └─Linear: 2-10                      [256, 5]                  10,245\n==========================================================================================\nTotal params: 125,880,133\nTrainable params: 111,165,445\nNon-trainable params: 14,714,688\nTotal mult-adds (T): 3.96\n==========================================================================================\nInput size (MB): 154.14\nForward/backward pass size (MB): 27757.91\nParams size (MB): 503.52\nEstimated Total Size (MB): 28415.58\n=========================================================================================="
     },
     "metadata": {}
    }
   ],
   "id": "352b2c95e5e345ca"
  },
  {
   "cell_type": "code",
   "source": [
    "class EarlyStopper:\n",
    "    \"\"\"\n",
    "    Early stop if validation loss doesn't improve with a value of `delta_value` after a given number of epochs\n",
    "    \"\"\"\n",
    "\n",
    "    def __init__(self, patience_limit: int, model: t.nn.Module, delta_value: float = 0.0, verbose=False,\n",
    "                 mode: Literal['val_loss', \"loss\"] = \"val_loss\", save_dir: Optional[Path] = None):\n",
    "        \"\"\"\n",
    "        :param patience_limit: Number of epoch to wait\n",
    "        :param delta_value: A value that validation loss need to improve, if not the training session will stop\n",
    "        :param verbose:\n",
    "        :param mode:\n",
    "        \"\"\"\n",
    "        if save_dir is None:\n",
    "            self.save_dir = Path.cwd()\n",
    "        else:\n",
    "            self.save_dir = save_dir\n",
    "            self.save_dir.mkdir(parents=True, exist_ok=True)\n",
    "\n",
    "        self.patience_limit = patience_limit\n",
    "        self.model = model\n",
    "        self.delta_value = delta_value\n",
    "        self.best_score = float(\"inf\")\n",
    "        self.verbose = verbose\n",
    "        self.wait = 0\n",
    "        self.mode = mode\n",
    "        self.save_path = None\n",
    "\n",
    "    def __call__(self, result_dict: Dict):\n",
    "        current_score = result_dict[self.mode][-1]\n",
    "        cur_epoch = len(result_dict[self.mode])\n",
    "        if self.best_score is None:\n",
    "            self.best_score = current_score\n",
    "        elif current_score > self.best_score + self.delta_value:\n",
    "            self.wait += 1\n",
    "            if self.wait >= self.patience_limit:\n",
    "                if self.verbose:\n",
    "                    print(\n",
    "                        f\"Val loss did not improve from {self.best_score} in {self.wait} epochs. Early stop at epoch {cur_epoch}\")\n",
    "                return True\n",
    "        else:  # val_loss improve\n",
    "            if self.verbose:\n",
    "                print(f'Val loss improve from {self.best_score + self.delta_value} → {current_score}!')\n",
    "\n",
    "            # remove previous checkpoint if save_path is already exist\n",
    "            if self.save_path is not None:\n",
    "                os.remove(self.save_path)\n",
    "                if self.verbose:\n",
    "                    print(f\"Removed previous best checkpoint at path [{self.save_path}]\")\n",
    "\n",
    "            # save best checkpoint\n",
    "            if self.checkpoint(epoch=cur_epoch):\n",
    "                if self.verbose:\n",
    "                    print(f\"Successfully saved model at [{self.save_dir}]\")\n",
    "            self.best_score = current_score\n",
    "            self.wait = 0\n",
    "            return False\n",
    "\n",
    "    def checkpoint(self, epoch) -> bool:\n",
    "        try:\n",
    "            # update save path\n",
    "            self.save_path = self.save_dir / f\"best_model_epoch_{epoch}.pt\"\n",
    "            t.save(obj=self.model.state_dict(), f=self.save_path)\n",
    "            return True\n",
    "        except Exception as e:\n",
    "            print(e)\n",
    "            print(\"\\nFailed to save best checkpoint model\")\n",
    "            return False\n"
   ],
   "metadata": {
    "collapsed": false,
    "execution": {
     "iopub.status.busy": "2024-04-02T06:01:25.279996Z",
     "iopub.execute_input": "2024-04-02T06:01:25.280638Z",
     "iopub.status.idle": "2024-04-02T06:01:25.294117Z",
     "shell.execute_reply.started": "2024-04-02T06:01:25.280610Z",
     "shell.execute_reply": "2024-04-02T06:01:25.293191Z"
    },
    "trusted": true
   },
   "execution_count": 10,
   "outputs": [],
   "id": "b64b3152570d44ae"
  },
  {
   "cell_type": "code",
   "source": [
    "class Logger:\n",
    "    def __init__(self, save_dir: Optional[Path] = None):\n",
    "        if save_dir is None:\n",
    "            self.save_dir = Path.cwd()\n",
    "        else:\n",
    "            self.save_dir = save_dir\n",
    "            self.save_dir.mkdir(parents=True, exist_ok=True)\n",
    "\n",
    "    def __call__(self, result_dic: Dict[str, List[float]]) -> bool:\n",
    "        try:\n",
    "            with open(self.save_dir / \"result.json\", 'w', encoding='utf-8') as f:\n",
    "                json.dump(result_dic, f, ensure_ascii=False, indent=4)\n",
    "            return True\n",
    "        except Exception as e:\n",
    "            print(e)\n",
    "            return False\n"
   ],
   "metadata": {
    "collapsed": false,
    "execution": {
     "iopub.status.busy": "2024-04-02T06:01:25.295144Z",
     "iopub.execute_input": "2024-04-02T06:01:25.295437Z",
     "iopub.status.idle": "2024-04-02T06:01:27.262937Z",
     "shell.execute_reply.started": "2024-04-02T06:01:25.295412Z",
     "shell.execute_reply": "2024-04-02T06:01:27.262048Z"
    },
    "trusted": true
   },
   "execution_count": 11,
   "outputs": [],
   "id": "baa22f4c42310040"
  },
  {
   "cell_type": "code",
   "source": [
    "def compute_metrics(preds: int, labels: int, metrics: List[Metric], results_dict: Dict[str, float],\n",
    "                    is_val: bool = False) -> Dict[str, float]:\n",
    "    \"\"\"\n",
    "    Compute cumulative metrics given predictions and labels\n",
    "    :param is_val: is validation or not, if is_val, it will add prefix \"val_\" to key of dict\n",
    "    :param preds: predict\n",
    "    :param labels: label\n",
    "    :param metrics: list of metrics\n",
    "    :param results_dict: Dict[str, float] Dict of metric name and metric value to be computed\n",
    "    :return:\n",
    "    \"\"\"\n",
    "    prefix = \"val_\" if is_val else \"\"\n",
    "    for metric in metrics:\n",
    "        metric(preds, labels)\n",
    "        results_dict[prefix + metric.__class__.__name__] += metric.compute().item()\n",
    "        metric.reset()\n",
    "    return results_dict"
   ],
   "metadata": {
    "collapsed": false,
    "execution": {
     "iopub.status.busy": "2024-04-02T06:01:27.264109Z",
     "iopub.execute_input": "2024-04-02T06:01:27.264434Z",
     "iopub.status.idle": "2024-04-02T06:01:27.273204Z",
     "shell.execute_reply.started": "2024-04-02T06:01:27.264404Z",
     "shell.execute_reply": "2024-04-02T06:01:27.272276Z"
    },
    "trusted": true
   },
   "execution_count": 12,
   "outputs": [],
   "id": "835629e450830e29"
  },
  {
   "cell_type": "code",
   "source": [
    "\n",
    "class Trainer:\n",
    "    def __init__(self, model: t.nn.Module, dataloader: Dict[str, t.utils.data.DataLoader], loss_func: t.nn.Module,\n",
    "                 optimizer: t.optim.Optimizer, num_epochs: int, metrics: List[Metric], device: Any,\n",
    "                 checkpoint_dir: Path = None, callbacks: List[Callable] = None):\n",
    "        self.model = model\n",
    "        self.dataloader = dataloader\n",
    "        self.loss_func = loss_func\n",
    "        self.optimizer = optimizer\n",
    "        self.num_epochs = num_epochs\n",
    "        self.metrics = metrics\n",
    "        self.device = device\n",
    "        self.__callbacks = callbacks if callbacks is not None else []\n",
    "        self.results = {f\"{metric.__class__.__name__}\": [] for metric in self.metrics}\n",
    "        self.results.update({f\"val_{metric.__class__.__name__}\": [] for metric in self.metrics})\n",
    "        self.loss_dict = {\"loss\": [], \"val_loss\": []}\n",
    "        self.reporter = LossPrettifier(show_percentage=True)\n",
    "        if checkpoint_dir is None:\n",
    "            self.checkpoint_dir = Path.cwd()\n",
    "        else:\n",
    "            self.checkpoint_dir = checkpoint_dir\n",
    "            self.checkpoint_dir.mkdir(parents=True, exist_ok=True)\n",
    "\n",
    "    def train(self):\n",
    "        for epoch in tqdm(range(1, self.num_epochs + 1), desc=\"EPOCH\"):\n",
    "            self.__train_step(epoch)\n",
    "            self.__validation_step(epoch)\n",
    "            self.__print_loss(epoch)\n",
    "            if self.__callback():\n",
    "                break\n",
    "            self.__save_checkpoint(epoch)\n",
    "        return {**self.loss_dict, **self.results}\n",
    "\n",
    "    def __train_step(self, epoch):\n",
    "        self.model.train()\n",
    "        total_train_loss = 0\n",
    "        metrics_values = {metric.__class__.__name__: 0 for metric in self.metrics}\n",
    "        train_bar = tqdm(self.dataloader[\"train\"], leave=False,\n",
    "                         desc=f\"{' ' * (len('EPOCH') + len(str(epoch)))}TRAIN{'' * (len('VALIDATION') - len('TRAIN'))}\")\n",
    "        for batch, (X, y) in enumerate(train_bar):\n",
    "            X, y = X.to(self.device), y.to(self.device)\n",
    "            # Forward\n",
    "            y_pred = self.model(X)\n",
    "\n",
    "            # Loss & metrics\n",
    "            minibatch_loss = self.loss_func(y_pred, y)\n",
    "            total_train_loss += minibatch_loss\n",
    "            metrics_values = compute_metrics(preds=y_pred, labels=y, results_dict=metrics_values, metrics=self.metrics)\n",
    "\n",
    "            # gradient decent\n",
    "            self.optimizer.zero_grad()\n",
    "            minibatch_loss.backward()\n",
    "            self.optimizer.step()\n",
    "\n",
    "            # update bar\n",
    "            train_bar.update()\n",
    "\n",
    "        # Save Final Loss & Metrics\n",
    "        total_train_loss /= len(self.dataloader[\"train\"])\n",
    "        metrics_values = {k: v / len(self.dataloader[\"train\"]) for k, v in metrics_values.items()}\n",
    "        self.loss_dict[\"loss\"].append(total_train_loss.item())\n",
    "        for k, v in metrics_values.items():\n",
    "            self.results[k].append(v)\n",
    "\n",
    "    def __validation_step(self, epoch):\n",
    "        self.model.eval()\n",
    "        with t.inference_mode():\n",
    "            total_val_loss = 0\n",
    "            val_metrics_values = {f\"val_{metric.__class__.__name__}\": 0 for metric in self.metrics}\n",
    "            val_bar = tqdm(self.dataloader[\"val\"], leave=False,\n",
    "                           desc=f\"{' ' * (len('EPOCH') + len(str(epoch)))}VALIDATION\")\n",
    "            for batch, (X, y) in enumerate(val_bar):\n",
    "                X, y = X.to(self.device), y.to(self.device)\n",
    "                # Forward\n",
    "                y_pred = self.model(X)\n",
    "\n",
    "                # Loss & Metrics\n",
    "                total_val_loss += self.loss_func(y_pred, y)\n",
    "                val_metrics_values = compute_metrics(preds=y_pred, labels=y, results_dict=val_metrics_values,\n",
    "                                                     metrics=self.metrics, is_val=True)\n",
    "                val_bar.update()\n",
    "\n",
    "            # Save Loss & Metrics\n",
    "            total_val_loss /= len(self.dataloader[\"val\"])\n",
    "            val_metrics_values = {k: v / len(self.dataloader[\"val\"]) for k, v in val_metrics_values.items()}\n",
    "            self.loss_dict[\"val_loss\"].append(total_val_loss.item())\n",
    "            for k, v in val_metrics_values.items():\n",
    "                self.results[k].append(v)\n",
    "\n",
    "    def __save_checkpoint(self, epoch):\n",
    "        \"\"\"Checkpoint every epoch and delete previous epoch checkpoint\"\"\"\n",
    "        checkpoint_path = self.checkpoint_dir / f\"epoch_{epoch - 1}.pt\"\n",
    "        if epoch > 1 and checkpoint_path.is_file():\n",
    "            os.remove(checkpoint_path)\n",
    "            print(f\"Removed epoch {epoch - 1} checkpoint\")\n",
    "\n",
    "        checkpoint_path = self.checkpoint_dir / f\"epoch_{epoch}.pt\"\n",
    "        print(f\"Checkpoint Epoch at {self.checkpoint_dir}\")\n",
    "        t.save(obj=self.model.state_dict(), f=checkpoint_path)\n",
    "\n",
    "    def __callback(self):\n",
    "        \"\"\"Execute the list off Callable and return True if it decided to stop the model\"\"\"\n",
    "        stop = False\n",
    "        if len(self.__callbacks) > 0:\n",
    "            callback_state = []\n",
    "            for func in self.__callbacks:\n",
    "                result = func({**self.loss_dict, **self.results})\n",
    "                callback_state.append(result)\n",
    "\n",
    "            if all(callback_state):\n",
    "                stop = True\n",
    "        return stop\n",
    "\n",
    "    def __print_loss(self, epoch):\n",
    "        self.reporter(epoch=epoch, Loss=self.loss_dict[\"loss\"][-1], Val_loss=self.loss_dict[\"val_loss\"][-1])\n"
   ],
   "metadata": {
    "collapsed": false,
    "execution": {
     "iopub.status.busy": "2024-04-02T06:01:27.274672Z",
     "iopub.execute_input": "2024-04-02T06:01:27.274985Z",
     "iopub.status.idle": "2024-04-02T06:01:27.302138Z",
     "shell.execute_reply.started": "2024-04-02T06:01:27.274962Z",
     "shell.execute_reply": "2024-04-02T06:01:27.301271Z"
    },
    "trusted": true
   },
   "execution_count": 13,
   "outputs": [],
   "id": "16a4b45cc0404e36"
  },
  {
   "cell_type": "code",
   "source": [
    "\n",
    "early_stopper = EarlyStopper(patience_limit=8,\n",
    "                             verbose=True,\n",
    "                             model=model_0,\n",
    "                             mode=\"val_loss\",\n",
    "                             save_dir=DST_DIR / \"Checkpoint\")\n",
    "\n",
    "log_json = Logger(save_dir=DST_DIR / \"Output\")\n",
    "trainer = Trainer(\n",
    "    model=model_0,\n",
    "    dataloader=data_loader_dict,\n",
    "    loss_func=model_0_loss_fn,\n",
    "    optimizer=model_0_optimizer,\n",
    "    num_epochs=EPOCHS,\n",
    "    metrics=[acc_fn, f1_fn],\n",
    "    device=DEVICE,\n",
    "    checkpoint_dir=DST_DIR / \"Checkpoint\",\n",
    "    callbacks=[early_stopper, log_json]\n",
    ")\n",
    "history = trainer.train()\n",
    "\n",
    "print(\"Trained Successfully\")"
   ],
   "metadata": {
    "collapsed": false,
    "execution": {
     "iopub.status.busy": "2024-04-02T06:01:27.303096Z",
     "iopub.execute_input": "2024-04-02T06:01:27.303358Z"
    },
    "trusted": true
   },
   "execution_count": null,
   "outputs": [
    {
     "output_type": "display_data",
     "data": {
      "text/plain": "EPOCH:   0%|          | 0/50 [00:00<?, ?it/s]",
      "application/vnd.jupyter.widget-view+json": {
       "version_major": 2,
       "version_minor": 0,
       "model_id": "fbad7519d30348358d34879156fd3221"
      }
     },
     "metadata": {}
    },
    {
     "output_type": "display_data",
     "data": {
      "text/plain": "      TRAIN:   0%|          | 0/144 [00:00<?, ?it/s]",
      "application/vnd.jupyter.widget-view+json": {
       "version_major": 2,
       "version_minor": 0,
       "model_id": ""
      }
     },
     "metadata": {}
    },
    {
     "output_type": "display_data",
     "data": {
      "text/plain": "      VALIDATION:   0%|          | 0/25 [00:00<?, ?it/s]",
      "application/vnd.jupyter.widget-view+json": {
       "version_major": 2,
       "version_minor": 0,
       "model_id": ""
      }
     },
     "metadata": {}
    },
    {
     "name": "stdout",
     "text": "Epoch     1 | Loss: 2.36(+0.00%) \u001B[0m\t| Val_loss: 1.09(+0.00%) \u001B[0m\t\nVal loss improve from inf → 1.085726261138916!\nSuccessfully saved model at [STORAGE/013/Checkpoint]\nCheckpoint Epoch at STORAGE/013/Checkpoint\n",
     "output_type": "stream"
    },
    {
     "output_type": "display_data",
     "data": {
      "text/plain": "      TRAIN:   0%|          | 0/144 [00:00<?, ?it/s]",
      "application/vnd.jupyter.widget-view+json": {
       "version_major": 2,
       "version_minor": 0,
       "model_id": ""
      }
     },
     "metadata": {}
    },
    {
     "output_type": "display_data",
     "data": {
      "text/plain": "      VALIDATION:   0%|          | 0/25 [00:00<?, ?it/s]",
      "application/vnd.jupyter.widget-view+json": {
       "version_major": 2,
       "version_minor": 0,
       "model_id": ""
      }
     },
     "metadata": {}
    },
    {
     "name": "stdout",
     "text": "Epoch     2 | Loss: \u001B[32m1.15(-51.14%) ▼\u001B[0m\t| Val_loss: \u001B[32m1.05(-3.05%) ▼\u001B[0m\t\nVal loss improve from 1.085726261138916 → 1.052665114402771!\nRemoved previous best checkpoint at path [STORAGE/013/Checkpoint/best_model_epoch_1.pt]\nSuccessfully saved model at [STORAGE/013/Checkpoint]\nRemoved epoch 1 checkpoint\nCheckpoint Epoch at STORAGE/013/Checkpoint\n",
     "output_type": "stream"
    },
    {
     "output_type": "display_data",
     "data": {
      "text/plain": "      TRAIN:   0%|          | 0/144 [00:00<?, ?it/s]",
      "application/vnd.jupyter.widget-view+json": {
       "version_major": 2,
       "version_minor": 0,
       "model_id": ""
      }
     },
     "metadata": {}
    },
    {
     "output_type": "display_data",
     "data": {
      "text/plain": "      VALIDATION:   0%|          | 0/25 [00:00<?, ?it/s]",
      "application/vnd.jupyter.widget-view+json": {
       "version_major": 2,
       "version_minor": 0,
       "model_id": ""
      }
     },
     "metadata": {}
    },
    {
     "name": "stdout",
     "text": "Epoch     3 | Loss: \u001B[32m1.10(-4.19%) ▼\u001B[0m\t| Val_loss: \u001B[32m1.05(-0.06%) ▼\u001B[0m\t\nVal loss improve from 1.052665114402771 → 1.0520154237747192!\nRemoved previous best checkpoint at path [STORAGE/013/Checkpoint/best_model_epoch_2.pt]\nSuccessfully saved model at [STORAGE/013/Checkpoint]\nRemoved epoch 2 checkpoint\nCheckpoint Epoch at STORAGE/013/Checkpoint\n",
     "output_type": "stream"
    },
    {
     "output_type": "display_data",
     "data": {
      "text/plain": "      TRAIN:   0%|          | 0/144 [00:00<?, ?it/s]",
      "application/vnd.jupyter.widget-view+json": {
       "version_major": 2,
       "version_minor": 0,
       "model_id": ""
      }
     },
     "metadata": {}
    },
    {
     "output_type": "display_data",
     "data": {
      "text/plain": "      VALIDATION:   0%|          | 0/25 [00:00<?, ?it/s]",
      "application/vnd.jupyter.widget-view+json": {
       "version_major": 2,
       "version_minor": 0,
       "model_id": ""
      }
     },
     "metadata": {}
    },
    {
     "name": "stdout",
     "text": "Epoch     4 | Loss: \u001B[32m1.07(-3.06%) ▼\u001B[0m\t| Val_loss: \u001B[32m1.03(-2.16%) ▼\u001B[0m\t\nVal loss improve from 1.0520154237747192 → 1.0293397903442383!\nRemoved previous best checkpoint at path [STORAGE/013/Checkpoint/best_model_epoch_3.pt]\nSuccessfully saved model at [STORAGE/013/Checkpoint]\nRemoved epoch 3 checkpoint\nCheckpoint Epoch at STORAGE/013/Checkpoint\n",
     "output_type": "stream"
    },
    {
     "output_type": "display_data",
     "data": {
      "text/plain": "      TRAIN:   0%|          | 0/144 [00:00<?, ?it/s]",
      "application/vnd.jupyter.widget-view+json": {
       "version_major": 2,
       "version_minor": 0,
       "model_id": ""
      }
     },
     "metadata": {}
    },
    {
     "output_type": "display_data",
     "data": {
      "text/plain": "      VALIDATION:   0%|          | 0/25 [00:00<?, ?it/s]",
      "application/vnd.jupyter.widget-view+json": {
       "version_major": 2,
       "version_minor": 0,
       "model_id": ""
      }
     },
     "metadata": {}
    },
    {
     "name": "stdout",
     "text": "Epoch     5 | Loss: \u001B[32m1.06(-1.00%) ▼\u001B[0m\t| Val_loss: \u001B[32m1.00(-2.42%) ▼\u001B[0m\t\nVal loss improve from 1.0293397903442383 → 1.004438877105713!\nRemoved previous best checkpoint at path [STORAGE/013/Checkpoint/best_model_epoch_4.pt]\nSuccessfully saved model at [STORAGE/013/Checkpoint]\nRemoved epoch 4 checkpoint\nCheckpoint Epoch at STORAGE/013/Checkpoint\n",
     "output_type": "stream"
    },
    {
     "output_type": "display_data",
     "data": {
      "text/plain": "      TRAIN:   0%|          | 0/144 [00:00<?, ?it/s]",
      "application/vnd.jupyter.widget-view+json": {
       "version_major": 2,
       "version_minor": 0,
       "model_id": ""
      }
     },
     "metadata": {}
    },
    {
     "output_type": "display_data",
     "data": {
      "text/plain": "      VALIDATION:   0%|          | 0/25 [00:00<?, ?it/s]",
      "application/vnd.jupyter.widget-view+json": {
       "version_major": 2,
       "version_minor": 0,
       "model_id": ""
      }
     },
     "metadata": {}
    },
    {
     "name": "stdout",
     "text": "Epoch     6 | Loss: \u001B[32m1.03(-2.64%) ▼\u001B[0m\t| Val_loss: \u001B[32m0.99(-1.63%) ▼\u001B[0m\t\nVal loss improve from 1.004438877105713 → 0.9880412220954895!\nRemoved previous best checkpoint at path [STORAGE/013/Checkpoint/best_model_epoch_5.pt]\nSuccessfully saved model at [STORAGE/013/Checkpoint]\nRemoved epoch 5 checkpoint\nCheckpoint Epoch at STORAGE/013/Checkpoint\n",
     "output_type": "stream"
    },
    {
     "output_type": "display_data",
     "data": {
      "text/plain": "      TRAIN:   0%|          | 0/144 [00:00<?, ?it/s]",
      "application/vnd.jupyter.widget-view+json": {
       "version_major": 2,
       "version_minor": 0,
       "model_id": ""
      }
     },
     "metadata": {}
    },
    {
     "output_type": "display_data",
     "data": {
      "text/plain": "      VALIDATION:   0%|          | 0/25 [00:00<?, ?it/s]",
      "application/vnd.jupyter.widget-view+json": {
       "version_major": 2,
       "version_minor": 0,
       "model_id": ""
      }
     },
     "metadata": {}
    },
    {
     "name": "stdout",
     "text": "Epoch     7 | Loss: \u001B[32m1.03(-0.26%) ▼\u001B[0m\t| Val_loss: \u001B[91m1.00(+0.97%) ▲\u001B[0m\t\nRemoved epoch 6 checkpoint\nCheckpoint Epoch at STORAGE/013/Checkpoint\n",
     "output_type": "stream"
    },
    {
     "output_type": "display_data",
     "data": {
      "text/plain": "      TRAIN:   0%|          | 0/144 [00:00<?, ?it/s]",
      "application/vnd.jupyter.widget-view+json": {
       "version_major": 2,
       "version_minor": 0,
       "model_id": ""
      }
     },
     "metadata": {}
    },
    {
     "output_type": "display_data",
     "data": {
      "text/plain": "      VALIDATION:   0%|          | 0/25 [00:00<?, ?it/s]",
      "application/vnd.jupyter.widget-view+json": {
       "version_major": 2,
       "version_minor": 0,
       "model_id": ""
      }
     },
     "metadata": {}
    },
    {
     "name": "stdout",
     "text": "Epoch     8 | Loss: \u001B[32m1.01(-1.37%) ▼\u001B[0m\t| Val_loss: \u001B[91m1.02(+1.98%) ▲\u001B[0m\t\nRemoved epoch 7 checkpoint\nCheckpoint Epoch at STORAGE/013/Checkpoint\n",
     "output_type": "stream"
    },
    {
     "output_type": "display_data",
     "data": {
      "text/plain": "      TRAIN:   0%|          | 0/144 [00:00<?, ?it/s]",
      "application/vnd.jupyter.widget-view+json": {
       "version_major": 2,
       "version_minor": 0,
       "model_id": ""
      }
     },
     "metadata": {}
    },
    {
     "output_type": "display_data",
     "data": {
      "text/plain": "      VALIDATION:   0%|          | 0/25 [00:00<?, ?it/s]",
      "application/vnd.jupyter.widget-view+json": {
       "version_major": 2,
       "version_minor": 0,
       "model_id": ""
      }
     },
     "metadata": {}
    },
    {
     "name": "stdout",
     "text": "Epoch     9 | Loss: \u001B[91m1.02(+0.35%) ▲\u001B[0m\t| Val_loss: \u001B[32m1.01(-0.31%) ▼\u001B[0m\t\nRemoved epoch 8 checkpoint\nCheckpoint Epoch at STORAGE/013/Checkpoint\n",
     "output_type": "stream"
    },
    {
     "output_type": "display_data",
     "data": {
      "text/plain": "       TRAIN:   0%|          | 0/144 [00:00<?, ?it/s]",
      "application/vnd.jupyter.widget-view+json": {
       "version_major": 2,
       "version_minor": 0,
       "model_id": ""
      }
     },
     "metadata": {}
    },
    {
     "output_type": "display_data",
     "data": {
      "text/plain": "       VALIDATION:   0%|          | 0/25 [00:00<?, ?it/s]",
      "application/vnd.jupyter.widget-view+json": {
       "version_major": 2,
       "version_minor": 0,
       "model_id": ""
      }
     },
     "metadata": {}
    },
    {
     "name": "stdout",
     "text": "Epoch    10 | Loss: \u001B[32m1.01(-0.98%) ▼\u001B[0m\t| Val_loss: \u001B[32m0.97(-3.98%) ▼\u001B[0m\t\nVal loss improve from 0.9880412220954895 → 0.9738097786903381!\nRemoved previous best checkpoint at path [STORAGE/013/Checkpoint/best_model_epoch_6.pt]\nSuccessfully saved model at [STORAGE/013/Checkpoint]\nRemoved epoch 9 checkpoint\nCheckpoint Epoch at STORAGE/013/Checkpoint\n",
     "output_type": "stream"
    },
    {
     "output_type": "display_data",
     "data": {
      "text/plain": "       TRAIN:   0%|          | 0/144 [00:00<?, ?it/s]",
      "application/vnd.jupyter.widget-view+json": {
       "version_major": 2,
       "version_minor": 0,
       "model_id": ""
      }
     },
     "metadata": {}
    },
    {
     "output_type": "display_data",
     "data": {
      "text/plain": "       VALIDATION:   0%|          | 0/25 [00:00<?, ?it/s]",
      "application/vnd.jupyter.widget-view+json": {
       "version_major": 2,
       "version_minor": 0,
       "model_id": ""
      }
     },
     "metadata": {}
    },
    {
     "name": "stdout",
     "text": "Epoch    11 | Loss: \u001B[32m1.00(-1.05%) ▼\u001B[0m\t| Val_loss: \u001B[91m1.01(+3.64%) ▲\u001B[0m\t\nRemoved epoch 10 checkpoint\nCheckpoint Epoch at STORAGE/013/Checkpoint\n",
     "output_type": "stream"
    },
    {
     "output_type": "display_data",
     "data": {
      "text/plain": "       TRAIN:   0%|          | 0/144 [00:00<?, ?it/s]",
      "application/vnd.jupyter.widget-view+json": {
       "version_major": 2,
       "version_minor": 0,
       "model_id": ""
      }
     },
     "metadata": {}
    },
    {
     "output_type": "display_data",
     "data": {
      "text/plain": "       VALIDATION:   0%|          | 0/25 [00:00<?, ?it/s]",
      "application/vnd.jupyter.widget-view+json": {
       "version_major": 2,
       "version_minor": 0,
       "model_id": ""
      }
     },
     "metadata": {}
    },
    {
     "name": "stdout",
     "text": "Epoch    12 | Loss: \u001B[32m0.99(-0.40%) ▼\u001B[0m\t| Val_loss: \u001B[32m1.00(-0.83%) ▼\u001B[0m\t\nRemoved epoch 11 checkpoint\nCheckpoint Epoch at STORAGE/013/Checkpoint\n",
     "output_type": "stream"
    },
    {
     "output_type": "display_data",
     "data": {
      "text/plain": "       TRAIN:   0%|          | 0/144 [00:00<?, ?it/s]",
      "application/vnd.jupyter.widget-view+json": {
       "version_major": 2,
       "version_minor": 0,
       "model_id": ""
      }
     },
     "metadata": {}
    },
    {
     "output_type": "display_data",
     "data": {
      "text/plain": "       VALIDATION:   0%|          | 0/25 [00:00<?, ?it/s]",
      "application/vnd.jupyter.widget-view+json": {
       "version_major": 2,
       "version_minor": 0,
       "model_id": ""
      }
     },
     "metadata": {}
    },
    {
     "name": "stdout",
     "text": "Epoch    13 | Loss: \u001B[32m0.99(-0.07%) ▼\u001B[0m\t| Val_loss: \u001B[91m1.01(+0.73%) ▲\u001B[0m\t\nRemoved epoch 12 checkpoint\nCheckpoint Epoch at STORAGE/013/Checkpoint\n",
     "output_type": "stream"
    },
    {
     "output_type": "display_data",
     "data": {
      "text/plain": "       TRAIN:   0%|          | 0/144 [00:00<?, ?it/s]",
      "application/vnd.jupyter.widget-view+json": {
       "version_major": 2,
       "version_minor": 0,
       "model_id": ""
      }
     },
     "metadata": {}
    },
    {
     "output_type": "display_data",
     "data": {
      "text/plain": "       VALIDATION:   0%|          | 0/25 [00:00<?, ?it/s]",
      "application/vnd.jupyter.widget-view+json": {
       "version_major": 2,
       "version_minor": 0,
       "model_id": ""
      }
     },
     "metadata": {}
    },
    {
     "name": "stdout",
     "text": "Epoch    14 | Loss: \u001B[32m0.99(-0.09%) ▼\u001B[0m\t| Val_loss: \u001B[32m1.01(-0.15%) ▼\u001B[0m\t\nRemoved epoch 13 checkpoint\nCheckpoint Epoch at STORAGE/013/Checkpoint\n",
     "output_type": "stream"
    },
    {
     "output_type": "display_data",
     "data": {
      "text/plain": "       TRAIN:   0%|          | 0/144 [00:00<?, ?it/s]",
      "application/vnd.jupyter.widget-view+json": {
       "version_major": 2,
       "version_minor": 0,
       "model_id": ""
      }
     },
     "metadata": {}
    },
    {
     "output_type": "display_data",
     "data": {
      "text/plain": "       VALIDATION:   0%|          | 0/25 [00:00<?, ?it/s]",
      "application/vnd.jupyter.widget-view+json": {
       "version_major": 2,
       "version_minor": 0,
       "model_id": ""
      }
     },
     "metadata": {}
    },
    {
     "name": "stdout",
     "text": "Epoch    15 | Loss: \u001B[32m0.99(-0.48%) ▼\u001B[0m\t| Val_loss: \u001B[91m1.01(+0.15%) ▲\u001B[0m\t\nRemoved epoch 14 checkpoint\nCheckpoint Epoch at STORAGE/013/Checkpoint\n",
     "output_type": "stream"
    },
    {
     "output_type": "display_data",
     "data": {
      "text/plain": "       TRAIN:   0%|          | 0/144 [00:00<?, ?it/s]",
      "application/vnd.jupyter.widget-view+json": {
       "version_major": 2,
       "version_minor": 0,
       "model_id": ""
      }
     },
     "metadata": {}
    },
    {
     "output_type": "display_data",
     "data": {
      "text/plain": "       VALIDATION:   0%|          | 0/25 [00:00<?, ?it/s]",
      "application/vnd.jupyter.widget-view+json": {
       "version_major": 2,
       "version_minor": 0,
       "model_id": ""
      }
     },
     "metadata": {}
    },
    {
     "name": "stdout",
     "text": "Epoch    16 | Loss: \u001B[32m0.98(-0.67%) ▼\u001B[0m\t| Val_loss: \u001B[32m0.97(-3.70%) ▼\u001B[0m\t\nVal loss improve from 0.9738097786903381 → 0.9708026051521301!\nRemoved previous best checkpoint at path [STORAGE/013/Checkpoint/best_model_epoch_10.pt]\nSuccessfully saved model at [STORAGE/013/Checkpoint]\nRemoved epoch 15 checkpoint\nCheckpoint Epoch at STORAGE/013/Checkpoint\n",
     "output_type": "stream"
    },
    {
     "output_type": "display_data",
     "data": {
      "text/plain": "       TRAIN:   0%|          | 0/144 [00:00<?, ?it/s]",
      "application/vnd.jupyter.widget-view+json": {
       "version_major": 2,
       "version_minor": 0,
       "model_id": ""
      }
     },
     "metadata": {}
    },
    {
     "output_type": "display_data",
     "data": {
      "text/plain": "       VALIDATION:   0%|          | 0/25 [00:00<?, ?it/s]",
      "application/vnd.jupyter.widget-view+json": {
       "version_major": 2,
       "version_minor": 0,
       "model_id": ""
      }
     },
     "metadata": {}
    },
    {
     "name": "stdout",
     "text": "Epoch    17 | Loss: \u001B[32m0.97(-0.68%) ▼\u001B[0m\t| Val_loss: \u001B[91m1.01(+4.33%) ▲\u001B[0m\t\nRemoved epoch 16 checkpoint\nCheckpoint Epoch at STORAGE/013/Checkpoint\n",
     "output_type": "stream"
    },
    {
     "output_type": "display_data",
     "data": {
      "text/plain": "       TRAIN:   0%|          | 0/144 [00:00<?, ?it/s]",
      "application/vnd.jupyter.widget-view+json": {
       "version_major": 2,
       "version_minor": 0,
       "model_id": ""
      }
     },
     "metadata": {}
    },
    {
     "output_type": "display_data",
     "data": {
      "text/plain": "       VALIDATION:   0%|          | 0/25 [00:00<?, ?it/s]",
      "application/vnd.jupyter.widget-view+json": {
       "version_major": 2,
       "version_minor": 0,
       "model_id": ""
      }
     },
     "metadata": {}
    },
    {
     "name": "stdout",
     "text": "Epoch    18 | Loss: \u001B[32m0.97(-0.74%) ▼\u001B[0m\t| Val_loss: \u001B[32m0.97(-3.86%) ▼\u001B[0m\t\nRemoved epoch 17 checkpoint\nCheckpoint Epoch at STORAGE/013/Checkpoint\n",
     "output_type": "stream"
    },
    {
     "output_type": "display_data",
     "data": {
      "text/plain": "       TRAIN:   0%|          | 0/144 [00:00<?, ?it/s]",
      "application/vnd.jupyter.widget-view+json": {
       "version_major": 2,
       "version_minor": 0,
       "model_id": ""
      }
     },
     "metadata": {}
    },
    {
     "output_type": "display_data",
     "data": {
      "text/plain": "       VALIDATION:   0%|          | 0/25 [00:00<?, ?it/s]",
      "application/vnd.jupyter.widget-view+json": {
       "version_major": 2,
       "version_minor": 0,
       "model_id": ""
      }
     },
     "metadata": {}
    },
    {
     "name": "stdout",
     "text": "Epoch    19 | Loss: \u001B[91m0.98(+1.62%) ▲\u001B[0m\t| Val_loss: \u001B[91m1.00(+3.00%) ▲\u001B[0m\t\nRemoved epoch 18 checkpoint\nCheckpoint Epoch at STORAGE/013/Checkpoint\n",
     "output_type": "stream"
    },
    {
     "output_type": "display_data",
     "data": {
      "text/plain": "       TRAIN:   0%|          | 0/144 [00:00<?, ?it/s]",
      "application/vnd.jupyter.widget-view+json": {
       "version_major": 2,
       "version_minor": 0,
       "model_id": ""
      }
     },
     "metadata": {}
    },
    {
     "output_type": "display_data",
     "data": {
      "text/plain": "       VALIDATION:   0%|          | 0/25 [00:00<?, ?it/s]",
      "application/vnd.jupyter.widget-view+json": {
       "version_major": 2,
       "version_minor": 0,
       "model_id": ""
      }
     },
     "metadata": {}
    },
    {
     "name": "stdout",
     "text": "Epoch    20 | Loss: \u001B[32m0.98(-0.62%) ▼\u001B[0m\t| Val_loss: \u001B[32m1.00(-0.72%) ▼\u001B[0m\t\nRemoved epoch 19 checkpoint\nCheckpoint Epoch at STORAGE/013/Checkpoint\n",
     "output_type": "stream"
    },
    {
     "output_type": "display_data",
     "data": {
      "text/plain": "       TRAIN:   0%|          | 0/144 [00:00<?, ?it/s]",
      "application/vnd.jupyter.widget-view+json": {
       "version_major": 2,
       "version_minor": 0,
       "model_id": ""
      }
     },
     "metadata": {}
    },
    {
     "output_type": "display_data",
     "data": {
      "text/plain": "       VALIDATION:   0%|          | 0/25 [00:00<?, ?it/s]",
      "application/vnd.jupyter.widget-view+json": {
       "version_major": 2,
       "version_minor": 0,
       "model_id": ""
      }
     },
     "metadata": {}
    },
    {
     "name": "stdout",
     "text": "Epoch    21 | Loss: \u001B[32m0.96(-1.92%) ▼\u001B[0m\t| Val_loss: \u001B[32m0.99(-0.74%) ▼\u001B[0m\t\nRemoved epoch 20 checkpoint\nCheckpoint Epoch at STORAGE/013/Checkpoint\n",
     "output_type": "stream"
    },
    {
     "output_type": "display_data",
     "data": {
      "text/plain": "       TRAIN:   0%|          | 0/144 [00:00<?, ?it/s]",
      "application/vnd.jupyter.widget-view+json": {
       "version_major": 2,
       "version_minor": 0,
       "model_id": ""
      }
     },
     "metadata": {}
    },
    {
     "output_type": "display_data",
     "data": {
      "text/plain": "       VALIDATION:   0%|          | 0/25 [00:00<?, ?it/s]",
      "application/vnd.jupyter.widget-view+json": {
       "version_major": 2,
       "version_minor": 0,
       "model_id": ""
      }
     },
     "metadata": {}
    },
    {
     "name": "stdout",
     "text": "Epoch    22 | Loss: \u001B[91m0.97(+0.95%) ▲\u001B[0m\t| Val_loss: \u001B[91m0.99(+0.00%) ▲\u001B[0m\t\nRemoved epoch 21 checkpoint\nCheckpoint Epoch at STORAGE/013/Checkpoint\n",
     "output_type": "stream"
    },
    {
     "output_type": "display_data",
     "data": {
      "text/plain": "       TRAIN:   0%|          | 0/144 [00:00<?, ?it/s]",
      "application/vnd.jupyter.widget-view+json": {
       "version_major": 2,
       "version_minor": 0,
       "model_id": ""
      }
     },
     "metadata": {}
    },
    {
     "output_type": "display_data",
     "data": {
      "text/plain": "       VALIDATION:   0%|          | 0/25 [00:00<?, ?it/s]",
      "application/vnd.jupyter.widget-view+json": {
       "version_major": 2,
       "version_minor": 0,
       "model_id": ""
      }
     },
     "metadata": {}
    },
    {
     "name": "stdout",
     "text": "Epoch    23 | Loss: \u001B[32m0.96(-0.44%) ▼\u001B[0m\t| Val_loss: \u001B[32m0.98(-0.58%) ▼\u001B[0m\t\nRemoved epoch 22 checkpoint\nCheckpoint Epoch at STORAGE/013/Checkpoint\n",
     "output_type": "stream"
    },
    {
     "output_type": "display_data",
     "data": {
      "text/plain": "       TRAIN:   0%|          | 0/144 [00:00<?, ?it/s]",
      "application/vnd.jupyter.widget-view+json": {
       "version_major": 2,
       "version_minor": 0,
       "model_id": ""
      }
     },
     "metadata": {}
    },
    {
     "output_type": "display_data",
     "data": {
      "text/plain": "       VALIDATION:   0%|          | 0/25 [00:00<?, ?it/s]",
      "application/vnd.jupyter.widget-view+json": {
       "version_major": 2,
       "version_minor": 0,
       "model_id": ""
      }
     },
     "metadata": {}
    },
    {
     "name": "stdout",
     "text": "Epoch    24 | Loss: \u001B[91m0.96(+0.30%) ▲\u001B[0m\t| Val_loss: \u001B[32m0.96(-2.29%) ▼\u001B[0m\t\nVal loss improve from 0.9708026051521301 → 0.9601568579673767!\nRemoved previous best checkpoint at path [STORAGE/013/Checkpoint/best_model_epoch_16.pt]\nSuccessfully saved model at [STORAGE/013/Checkpoint]\nRemoved epoch 23 checkpoint\nCheckpoint Epoch at STORAGE/013/Checkpoint\n",
     "output_type": "stream"
    },
    {
     "output_type": "display_data",
     "data": {
      "text/plain": "       TRAIN:   0%|          | 0/144 [00:00<?, ?it/s]",
      "application/vnd.jupyter.widget-view+json": {
       "version_major": 2,
       "version_minor": 0,
       "model_id": ""
      }
     },
     "metadata": {}
    },
    {
     "output_type": "display_data",
     "data": {
      "text/plain": "       VALIDATION:   0%|          | 0/25 [00:00<?, ?it/s]",
      "application/vnd.jupyter.widget-view+json": {
       "version_major": 2,
       "version_minor": 0,
       "model_id": ""
      }
     },
     "metadata": {}
    },
    {
     "name": "stdout",
     "text": "Epoch    25 | Loss: \u001B[32m0.96(-0.91%) ▼\u001B[0m\t| Val_loss: \u001B[91m0.99(+2.64%) ▲\u001B[0m\t\nRemoved epoch 24 checkpoint\nCheckpoint Epoch at STORAGE/013/Checkpoint\n",
     "output_type": "stream"
    },
    {
     "output_type": "display_data",
     "data": {
      "text/plain": "       TRAIN:   0%|          | 0/144 [00:00<?, ?it/s]",
      "application/vnd.jupyter.widget-view+json": {
       "version_major": 2,
       "version_minor": 0,
       "model_id": ""
      }
     },
     "metadata": {}
    },
    {
     "output_type": "display_data",
     "data": {
      "text/plain": "       VALIDATION:   0%|          | 0/25 [00:00<?, ?it/s]",
      "application/vnd.jupyter.widget-view+json": {
       "version_major": 2,
       "version_minor": 0,
       "model_id": ""
      }
     },
     "metadata": {}
    },
    {
     "name": "stdout",
     "text": "Epoch    26 | Loss: \u001B[91m0.96(+0.85%) ▲\u001B[0m\t| Val_loss: \u001B[32m0.98(-1.02%) ▼\u001B[0m\t\nRemoved epoch 25 checkpoint\nCheckpoint Epoch at STORAGE/013/Checkpoint\n",
     "output_type": "stream"
    },
    {
     "output_type": "display_data",
     "data": {
      "text/plain": "       TRAIN:   0%|          | 0/144 [00:00<?, ?it/s]",
      "application/vnd.jupyter.widget-view+json": {
       "version_major": 2,
       "version_minor": 0,
       "model_id": ""
      }
     },
     "metadata": {}
    },
    {
     "output_type": "display_data",
     "data": {
      "text/plain": "       VALIDATION:   0%|          | 0/25 [00:00<?, ?it/s]",
      "application/vnd.jupyter.widget-view+json": {
       "version_major": 2,
       "version_minor": 0,
       "model_id": ""
      }
     },
     "metadata": {}
    },
    {
     "name": "stdout",
     "text": "Epoch    27 | Loss: \u001B[32m0.95(-1.37%) ▼\u001B[0m\t| Val_loss: \u001B[91m0.99(+1.78%) ▲\u001B[0m\t\nRemoved epoch 26 checkpoint\nCheckpoint Epoch at STORAGE/013/Checkpoint\n",
     "output_type": "stream"
    },
    {
     "output_type": "display_data",
     "data": {
      "text/plain": "       TRAIN:   0%|          | 0/144 [00:00<?, ?it/s]",
      "application/vnd.jupyter.widget-view+json": {
       "version_major": 2,
       "version_minor": 0,
       "model_id": ""
      }
     },
     "metadata": {}
    },
    {
     "output_type": "display_data",
     "data": {
      "text/plain": "       VALIDATION:   0%|          | 0/25 [00:00<?, ?it/s]",
      "application/vnd.jupyter.widget-view+json": {
       "version_major": 2,
       "version_minor": 0,
       "model_id": ""
      }
     },
     "metadata": {}
    },
    {
     "name": "stdout",
     "text": "Epoch    28 | Loss: \u001B[91m0.95(+0.25%) ▲\u001B[0m\t| Val_loss: \u001B[32m0.97(-2.23%) ▼\u001B[0m\t\nRemoved epoch 27 checkpoint\nCheckpoint Epoch at STORAGE/013/Checkpoint\n",
     "output_type": "stream"
    },
    {
     "output_type": "display_data",
     "data": {
      "text/plain": "       TRAIN:   0%|          | 0/144 [00:00<?, ?it/s]",
      "application/vnd.jupyter.widget-view+json": {
       "version_major": 2,
       "version_minor": 0,
       "model_id": ""
      }
     },
     "metadata": {}
    },
    {
     "output_type": "display_data",
     "data": {
      "text/plain": "       VALIDATION:   0%|          | 0/25 [00:00<?, ?it/s]",
      "application/vnd.jupyter.widget-view+json": {
       "version_major": 2,
       "version_minor": 0,
       "model_id": ""
      }
     },
     "metadata": {}
    },
    {
     "name": "stdout",
     "text": "Epoch    29 | Loss: \u001B[91m0.95(+0.12%) ▲\u001B[0m\t| Val_loss: \u001B[91m0.99(+1.61%) ▲\u001B[0m\t\nRemoved epoch 28 checkpoint\nCheckpoint Epoch at STORAGE/013/Checkpoint\n",
     "output_type": "stream"
    },
    {
     "output_type": "display_data",
     "data": {
      "text/plain": "       TRAIN:   0%|          | 0/144 [00:00<?, ?it/s]",
      "application/vnd.jupyter.widget-view+json": {
       "version_major": 2,
       "version_minor": 0,
       "model_id": ""
      }
     },
     "metadata": {}
    },
    {
     "output_type": "display_data",
     "data": {
      "text/plain": "       VALIDATION:   0%|          | 0/25 [00:00<?, ?it/s]",
      "application/vnd.jupyter.widget-view+json": {
       "version_major": 2,
       "version_minor": 0,
       "model_id": ""
      }
     },
     "metadata": {}
    },
    {
     "name": "stdout",
     "text": "Epoch    30 | Loss: \u001B[32m0.95(-0.01%) ▼\u001B[0m\t| Val_loss: \u001B[91m1.01(+1.90%) ▲\u001B[0m\t\nRemoved epoch 29 checkpoint\nCheckpoint Epoch at STORAGE/013/Checkpoint\n",
     "output_type": "stream"
    },
    {
     "output_type": "display_data",
     "data": {
      "text/plain": "       TRAIN:   0%|          | 0/144 [00:00<?, ?it/s]",
      "application/vnd.jupyter.widget-view+json": {
       "version_major": 2,
       "version_minor": 0,
       "model_id": ""
      }
     },
     "metadata": {}
    },
    {
     "output_type": "display_data",
     "data": {
      "text/plain": "       VALIDATION:   0%|          | 0/25 [00:00<?, ?it/s]",
      "application/vnd.jupyter.widget-view+json": {
       "version_major": 2,
       "version_minor": 0,
       "model_id": "9c022bedf8bc457783865e471fe1b3cb"
      }
     },
     "metadata": {}
    }
   ],
   "id": "4c116c47abd331ef"
  }
 ]
}
